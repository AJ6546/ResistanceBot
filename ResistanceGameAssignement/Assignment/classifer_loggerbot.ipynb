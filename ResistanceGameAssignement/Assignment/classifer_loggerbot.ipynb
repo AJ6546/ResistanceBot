{
 "cells": [
  {
   "cell_type": "markdown",
   "source": [
    "### Code to train a neural network based on our loggerbot's csv output\n",
    "\n",
    "First we load the log file in csv format.  This assumes our columns are stored in the order exactly as below, and also that there is no contamination (e.g. other print statements) in the csv file:"
   ],
   "metadata": {}
  },
  {
   "cell_type": "code",
   "execution_count": 1,
   "source": [
    "import pandas as pd\r\n",
    "# This assumes we've copied the log file (\"LoggerBot.log\") into our current working folder...\r\n",
    "df0=pd.read_csv(\"logs\\LoggerBot.log\",names=[\"Turn\",\"Try\",\"PlayerID\",\"PlayerName\",\"MissionsBeenOn\",\"FailedMissionsBeenOn\",\"WonAsRes\",\"WonAsSpy\",\"MissionSuccess\",\"MissionPassedAsSpy\",\"VotedUp0\",\"VotedUp1\",\"VotedUp2\",\"VotedUp3\",\"VotedUp4\",\"VotedUp5\",\"VotedDown0\",\"VotedDown1\",\"VotedDown2\",\"VotedDown3\",\"VotedDown4\",\"VotedDown5\",\"Spy\"])"
   ],
   "outputs": [],
   "metadata": {}
  },
  {
   "cell_type": "code",
   "execution_count": 2,
   "source": [
    "# This next line jus\r\n",
    "print(df0.head())"
   ],
   "outputs": [
    {
     "output_type": "stream",
     "name": "stdout",
     "text": [
      "   Turn  Try  PlayerID  PlayerName  MissionsBeenOn  FailedMissionsBeenOn  \\\n",
      "0     6    1         0  Trickerton               4                     2   \n",
      "1     6    1         1   Simpleton               1                     1   \n",
      "2     6    1         2     Bounder               3                     3   \n",
      "3     6    1         3  Logicalton               3                     1   \n",
      "4     6    1         4   LoggerBot               2                     1   \n",
      "\n",
      "   WonAsRes  WonAsSpy  MissionSuccess  MissionPassedAsSpy  ...  VotedUp3  \\\n",
      "0         0         0               2                   0  ...         0   \n",
      "1         0         1               0                   0  ...         0   \n",
      "2         0         1               0                   0  ...         0   \n",
      "3         0         0               2                   0  ...         0   \n",
      "4         0         0               1                   0  ...         0   \n",
      "\n",
      "   VotedUp4  VotedUp5  VotedDown0  VotedDown1  VotedDown2  VotedDown3  \\\n",
      "0         0         0           0           0           2           0   \n",
      "1         0         0           0           0           3           0   \n",
      "2         0         0           0           0           1           0   \n",
      "3         0         0           1           0           0           0   \n",
      "4         0         0           0           0           0           0   \n",
      "\n",
      "   VotedDown4  VotedDown5  Spy  \n",
      "0           0           0    0  \n",
      "1           0           0    1  \n",
      "2           0           0    1  \n",
      "3           0           0    0  \n",
      "4           0           0    0  \n",
      "\n",
      "[5 rows x 23 columns]\n"
     ]
    }
   ],
   "metadata": {}
  },
  {
   "cell_type": "code",
   "execution_count": 3,
   "source": [
    "# Let's take a subset of the data which only corresponds to the player \"Bounder\", \r\n",
    "# since bounder is hopefully quite representitive of a good player.  This decision to use only one bot\r\n",
    "# might not be optimal, but it simplifies things for now.\r\n",
    "df=df0.query(\"PlayerName=='Suspicious'\") # we can filter a pandas dataframe very nicely like an SQL query!\r\n",
    "print(df.head()) #print the filtered dataset"
   ],
   "outputs": [
    {
     "output_type": "stream",
     "name": "stdout",
     "text": [
      "        Turn  Try  PlayerID  PlayerName  MissionsBeenOn  FailedMissionsBeenOn  \\\n",
      "262578     5    1         1  Suspicious               4                     3   \n",
      "262579     5    1         2  Suspicious               2                     2   \n",
      "262580     5    1         3  Suspicious               1                     1   \n",
      "262583     5    1         1  Suspicious               4                     3   \n",
      "262584     5    1         2  Suspicious               2                     2   \n",
      "\n",
      "        WonAsRes  WonAsSpy  MissionSuccess  MissionPassedAsSpy  ...  VotedUp3  \\\n",
      "262578         0         1               1                   1  ...         1   \n",
      "262579         0         0               0                   0  ...         0   \n",
      "262580         0         0               0                   0  ...         1   \n",
      "262583         0         1               1                   1  ...         1   \n",
      "262584         0         0               0                   0  ...         0   \n",
      "\n",
      "        VotedUp4  VotedUp5  VotedDown0  VotedDown1  VotedDown2  VotedDown3  \\\n",
      "262578         0         0           0           0           0           0   \n",
      "262579         0         0           0           0           0           1   \n",
      "262580         0         0           1           0           0           0   \n",
      "262583         0         0           0           0           0           0   \n",
      "262584         0         0           0           0           0           1   \n",
      "\n",
      "        VotedDown4  VotedDown5  Spy  \n",
      "262578           0           0    1  \n",
      "262579           0           0    0  \n",
      "262580           0           0    0  \n",
      "262583           0           0    1  \n",
      "262584           0           0    0  \n",
      "\n",
      "[5 rows x 23 columns]\n"
     ]
    }
   ],
   "metadata": {}
  },
  {
   "cell_type": "code",
   "execution_count": 4,
   "source": [
    "print(df.describe()) # print some key column information\r\n",
    "# This lets us visually inspect the columns to check there's no nan values in there or infinity values,\r\n",
    "# or anything else showing signs of data corruption...."
   ],
   "outputs": [
    {
     "output_type": "stream",
     "name": "stdout",
     "text": [
      "               Turn      Try      PlayerID  MissionsBeenOn  \\\n",
      "count  57124.000000  57124.0  57124.000000    57124.000000   \n",
      "mean       5.096982      1.0      2.008175        2.162314   \n",
      "std        0.727284      0.0      1.409310        1.012250   \n",
      "min        4.000000      1.0      0.000000        0.000000   \n",
      "25%        5.000000      1.0      1.000000        1.000000   \n",
      "50%        5.000000      1.0      2.000000        2.000000   \n",
      "75%        6.000000      1.0      3.000000        3.000000   \n",
      "max        6.000000      1.0      4.000000        5.000000   \n",
      "\n",
      "       FailedMissionsBeenOn      WonAsRes      WonAsSpy  MissionSuccess  \\\n",
      "count          57124.000000  57124.000000  57124.000000    57124.000000   \n",
      "mean               1.458144      0.071914      0.348558        0.704170   \n",
      "std                0.835768      0.258347      0.476518        0.789527   \n",
      "min                0.000000      0.000000      0.000000        0.000000   \n",
      "25%                1.000000      0.000000      0.000000        0.000000   \n",
      "50%                1.000000      0.000000      0.000000        1.000000   \n",
      "75%                2.000000      0.000000      1.000000        1.000000   \n",
      "max                3.000000      1.000000      1.000000        3.000000   \n",
      "\n",
      "       MissionPassedAsSpy      VotedUp0  ...      VotedUp3      VotedUp4  \\\n",
      "count        57124.000000  57124.000000  ...  57124.000000  57124.000000   \n",
      "mean             0.199461      1.496621  ...      0.337861      0.068185   \n",
      "std              0.453911      0.652337  ...      0.506272      0.252412   \n",
      "min              0.000000      1.000000  ...      0.000000      0.000000   \n",
      "25%              0.000000      1.000000  ...      0.000000      0.000000   \n",
      "50%              0.000000      1.000000  ...      0.000000      0.000000   \n",
      "75%              0.000000      2.000000  ...      1.000000      0.000000   \n",
      "max              2.000000      4.000000  ...      2.000000      3.000000   \n",
      "\n",
      "           VotedUp5    VotedDown0    VotedDown1    VotedDown2    VotedDown3  \\\n",
      "count  57124.000000  57124.000000  57124.000000  57124.000000  57124.000000   \n",
      "mean       0.006075      0.389976      0.376759      0.292749      0.193999   \n",
      "std        0.077703      0.561214      0.534171      0.516000      0.412845   \n",
      "min        0.000000      0.000000      0.000000      0.000000      0.000000   \n",
      "25%        0.000000      0.000000      0.000000      0.000000      0.000000   \n",
      "50%        0.000000      0.000000      0.000000      0.000000      0.000000   \n",
      "75%        0.000000      1.000000      1.000000      1.000000      0.000000   \n",
      "max        1.000000      3.000000      3.000000      3.000000      3.000000   \n",
      "\n",
      "         VotedDown4   VotedDown5           Spy  \n",
      "count  57124.000000  57124.00000  57124.000000  \n",
      "mean       0.072246      0.00702      0.397889  \n",
      "std        0.262857      0.08349      0.489467  \n",
      "min        0.000000      0.00000      0.000000  \n",
      "25%        0.000000      0.00000      0.000000  \n",
      "50%        0.000000      0.00000      0.000000  \n",
      "75%        0.000000      0.00000      1.000000  \n",
      "max        3.000000      1.00000      1.000000  \n",
      "\n",
      "[8 rows x 22 columns]\n"
     ]
    }
   ],
   "metadata": {}
  },
  {
   "cell_type": "code",
   "execution_count": 5,
   "source": [
    "import numpy as np \r\n",
    "x_train=df.values[:,4:22].astype(np.float32) # This filters out only the columns we want to use as input vector for our NN.\r\n"
   ],
   "outputs": [],
   "metadata": {}
  },
  {
   "cell_type": "code",
   "execution_count": 6,
   "source": [
    "# Note [:,4:21] only includes columns 4 to 20 inclusive (it does not include column 21)\r\n",
    "y_train=df.values[:,22].astype(np.int32) # This is our target column.\r\n",
    "print(y_train.shape) # This is just a rank 1 array.\r\n",
    "print(y_train[0:6]) # first 6 entries of y.  Should be all 1s and zeros\r\n",
    "print(x_train[0:6]) # first 6 rows of x, our input vectors.\r\n",
    "num_inputs=x_train.shape[1] # this works out how many columns there are in x, i.e. how many inputs our network needs.\r\n",
    "num_outputs=2 # Two outputs needed - for \"spy\" or \"not spy\"."
   ],
   "outputs": [
    {
     "output_type": "stream",
     "name": "stdout",
     "text": [
      "(57124,)\n",
      "[1 0 0 1 0 0]\n",
      "[[4. 3. 0. 1. 1. 1. 2. 0. 1. 1. 0. 0. 0. 0. 0. 0. 0. 0.]\n",
      " [2. 2. 0. 0. 0. 0. 2. 0. 1. 0. 0. 0. 0. 0. 0. 1. 0. 0.]\n",
      " [1. 1. 0. 0. 0. 0. 1. 0. 1. 1. 0. 0. 1. 0. 0. 0. 0. 0.]\n",
      " [4. 3. 0. 1. 1. 1. 2. 0. 1. 1. 0. 0. 0. 0. 0. 0. 0. 0.]\n",
      " [2. 2. 0. 0. 0. 0. 2. 0. 1. 0. 0. 0. 0. 0. 0. 1. 0. 0.]\n",
      " [1. 1. 0. 0. 0. 0. 1. 0. 1. 1. 0. 0. 1. 0. 0. 0. 0. 0.]]\n"
     ]
    }
   ],
   "metadata": {}
  },
  {
   "cell_type": "code",
   "execution_count": 7,
   "source": [
    "# Split the dataset into a training data set and a validation dataset.\r\n",
    "dataset_size=len(x_train)\r\n",
    "train_set_size=int(dataset_size*0.7) # choose 70% of the data for training and 30% for validation\r\n",
    "x_val,y_val=x_train[train_set_size:],y_train[train_set_size:]\r\n",
    "x_train,y_train=x_train[:train_set_size],y_train[:train_set_size]"
   ],
   "outputs": [],
   "metadata": {}
  },
  {
   "cell_type": "code",
   "execution_count": 8,
   "source": [
    "# Build a keras model:\r\n",
    "import tensorflow as tf\r\n",
    "from tensorflow import keras\r\n",
    "from tensorflow.keras import layers\r\n",
    "\r\n",
    "# Define Sequential model with 3 layers\r\n",
    "model = keras.Sequential(name=\"my_neural_network\")\r\n",
    "layer1=layers.Dense(10, activation=\"tanh\", input_shape=(num_inputs,))\r\n",
    "model.add(layer1)\r\n",
    "layer2=layers.Dense(10, activation=\"tanh\")\r\n",
    "model.add(layer2)\r\n",
    "layer3=layers.Dense(num_outputs) #   No activation function here, we'll use from_logits=True below which implicitly adds the softmax into the training loss function.\r\n",
    "model.add(layer3)\r\n",
    "\r\n",
    "print(model(x_train[0:3])) # just check the NN is the correct shape for our training data, and see what comes out of it:"
   ],
   "outputs": [
    {
     "output_type": "stream",
     "name": "stdout",
     "text": [
      "tf.Tensor(\n",
      "[[ 1.398696    0.42313635]\n",
      " [ 1.296417    0.3428729 ]\n",
      " [-0.02359252  0.211791  ]], shape=(3, 2), dtype=float32)\n"
     ]
    }
   ],
   "metadata": {}
  },
  {
   "cell_type": "code",
   "execution_count": 9,
   "source": [
    "# Do the usual business for keras training\r\n",
    "# It's a classification problem , so we need cross entropy here.\r\n",
    "model.compile(\r\n",
    "    optimizer=keras.optimizers.Adam(0.001),  # Optimizer\r\n",
    "    # Loss function to minimize\r\n",
    "    loss=keras.losses.SparseCategoricalCrossentropy(from_logits=True),\r\n",
    "    metrics='accuracy'\r\n",
    ")"
   ],
   "outputs": [],
   "metadata": {}
  },
  {
   "cell_type": "code",
   "execution_count": 10,
   "source": [
    "# Do the usual business for keras training\r\n",
    "history = model.fit(\r\n",
    "    x_train,\r\n",
    "    y_train,\r\n",
    "    batch_size=50,\r\n",
    "    epochs=120,\r\n",
    "    validation_data=(x_val, y_val),verbose=1\r\n",
    ")"
   ],
   "outputs": [
    {
     "output_type": "stream",
     "name": "stdout",
     "text": [
      "Epoch 1/120\n",
      "800/800 [==============================] - 1s 1ms/step - loss: 0.1750 - accuracy: 0.9334 - val_loss: 0.0295 - val_accuracy: 0.9945\n",
      "Epoch 2/120\n",
      "800/800 [==============================] - 1s 940us/step - loss: 0.0288 - accuracy: 0.9925 - val_loss: 0.0228 - val_accuracy: 0.9926\n",
      "Epoch 3/120\n",
      "800/800 [==============================] - 1s 910us/step - loss: 0.0242 - accuracy: 0.9920 - val_loss: 0.0223 - val_accuracy: 0.9929\n",
      "Epoch 4/120\n",
      "800/800 [==============================] - 1s 742us/step - loss: 0.0218 - accuracy: 0.9923 - val_loss: 0.0175 - val_accuracy: 0.9933\n",
      "Epoch 5/120\n",
      "800/800 [==============================] - 1s 763us/step - loss: 0.0200 - accuracy: 0.9930 - val_loss: 0.0167 - val_accuracy: 0.9929\n",
      "Epoch 6/120\n",
      "800/800 [==============================] - 1s 764us/step - loss: 0.0188 - accuracy: 0.9931 - val_loss: 0.0167 - val_accuracy: 0.9941\n",
      "Epoch 7/120\n",
      "800/800 [==============================] - 1s 807us/step - loss: 0.0181 - accuracy: 0.9934 - val_loss: 0.0166 - val_accuracy: 0.9934\n",
      "Epoch 8/120\n",
      "800/800 [==============================] - 1s 838us/step - loss: 0.0174 - accuracy: 0.9937 - val_loss: 0.0151 - val_accuracy: 0.9938\n",
      "Epoch 9/120\n",
      "800/800 [==============================] - 1s 838us/step - loss: 0.0169 - accuracy: 0.9937 - val_loss: 0.0157 - val_accuracy: 0.9938\n",
      "Epoch 10/120\n",
      "800/800 [==============================] - 1s 944us/step - loss: 0.0164 - accuracy: 0.9939 - val_loss: 0.0142 - val_accuracy: 0.9943\n",
      "Epoch 11/120\n",
      "800/800 [==============================] - 1s 902us/step - loss: 0.0158 - accuracy: 0.9942 - val_loss: 0.0140 - val_accuracy: 0.9942\n",
      "Epoch 12/120\n",
      "800/800 [==============================] - 1s 913us/step - loss: 0.0158 - accuracy: 0.9943 - val_loss: 0.0141 - val_accuracy: 0.9943\n",
      "Epoch 13/120\n",
      "800/800 [==============================] - 1s 770us/step - loss: 0.0152 - accuracy: 0.9944 - val_loss: 0.0173 - val_accuracy: 0.9929\n",
      "Epoch 14/120\n",
      "800/800 [==============================] - 1s 771us/step - loss: 0.0148 - accuracy: 0.9944 - val_loss: 0.0165 - val_accuracy: 0.9928\n",
      "Epoch 15/120\n",
      "800/800 [==============================] - 1s 797us/step - loss: 0.0147 - accuracy: 0.9942 - val_loss: 0.0146 - val_accuracy: 0.9940\n",
      "Epoch 16/120\n",
      "800/800 [==============================] - 1s 868us/step - loss: 0.0146 - accuracy: 0.9945 - val_loss: 0.0137 - val_accuracy: 0.9944\n",
      "Epoch 17/120\n",
      "800/800 [==============================] - 1s 915us/step - loss: 0.0142 - accuracy: 0.9944 - val_loss: 0.0133 - val_accuracy: 0.9945\n",
      "Epoch 18/120\n",
      "800/800 [==============================] - 1s 916us/step - loss: 0.0137 - accuracy: 0.9944 - val_loss: 0.0135 - val_accuracy: 0.9949\n",
      "Epoch 19/120\n",
      "800/800 [==============================] - 1s 839us/step - loss: 0.0134 - accuracy: 0.9945 - val_loss: 0.0134 - val_accuracy: 0.9945\n",
      "Epoch 20/120\n",
      "800/800 [==============================] - 1s 846us/step - loss: 0.0134 - accuracy: 0.9947 - val_loss: 0.0141 - val_accuracy: 0.9941\n",
      "Epoch 21/120\n",
      "800/800 [==============================] - 1s 853us/step - loss: 0.0130 - accuracy: 0.9951 - val_loss: 0.0133 - val_accuracy: 0.9951\n",
      "Epoch 22/120\n",
      "800/800 [==============================] - 1s 798us/step - loss: 0.0129 - accuracy: 0.9947 - val_loss: 0.0138 - val_accuracy: 0.9945\n",
      "Epoch 23/120\n",
      "800/800 [==============================] - 1s 741us/step - loss: 0.0126 - accuracy: 0.9950 - val_loss: 0.0136 - val_accuracy: 0.9946\n",
      "Epoch 24/120\n",
      "800/800 [==============================] - 1s 739us/step - loss: 0.0122 - accuracy: 0.9950 - val_loss: 0.0131 - val_accuracy: 0.9946\n",
      "Epoch 25/120\n",
      "800/800 [==============================] - 1s 749us/step - loss: 0.0123 - accuracy: 0.9951 - val_loss: 0.0124 - val_accuracy: 0.9948\n",
      "Epoch 26/120\n",
      "800/800 [==============================] - 1s 790us/step - loss: 0.0123 - accuracy: 0.9952 - val_loss: 0.0126 - val_accuracy: 0.9950\n",
      "Epoch 27/120\n",
      "800/800 [==============================] - 1s 771us/step - loss: 0.0119 - accuracy: 0.9953 - val_loss: 0.0141 - val_accuracy: 0.9936\n",
      "Epoch 28/120\n",
      "800/800 [==============================] - 1s 784us/step - loss: 0.0116 - accuracy: 0.9952 - val_loss: 0.0128 - val_accuracy: 0.9946\n",
      "Epoch 29/120\n",
      "800/800 [==============================] - 1s 785us/step - loss: 0.0115 - accuracy: 0.9956 - val_loss: 0.0138 - val_accuracy: 0.9947\n",
      "Epoch 30/120\n",
      "800/800 [==============================] - 1s 833us/step - loss: 0.0114 - accuracy: 0.9957 - val_loss: 0.0129 - val_accuracy: 0.9948\n",
      "Epoch 31/120\n",
      "800/800 [==============================] - 1s 781us/step - loss: 0.0113 - accuracy: 0.9957 - val_loss: 0.0133 - val_accuracy: 0.9945\n",
      "Epoch 32/120\n",
      "800/800 [==============================] - 1s 806us/step - loss: 0.0111 - accuracy: 0.9957 - val_loss: 0.0128 - val_accuracy: 0.9949\n",
      "Epoch 33/120\n",
      "800/800 [==============================] - 1s 765us/step - loss: 0.0109 - accuracy: 0.9958 - val_loss: 0.0126 - val_accuracy: 0.9944\n",
      "Epoch 34/120\n",
      "800/800 [==============================] - 1s 774us/step - loss: 0.0108 - accuracy: 0.9959 - val_loss: 0.0130 - val_accuracy: 0.9950\n",
      "Epoch 35/120\n",
      "800/800 [==============================] - 1s 854us/step - loss: 0.0108 - accuracy: 0.9956 - val_loss: 0.0130 - val_accuracy: 0.9947\n",
      "Epoch 36/120\n",
      "800/800 [==============================] - 1s 848us/step - loss: 0.0106 - accuracy: 0.9959 - val_loss: 0.0138 - val_accuracy: 0.9938\n",
      "Epoch 37/120\n",
      "800/800 [==============================] - 1s 807us/step - loss: 0.0106 - accuracy: 0.9957 - val_loss: 0.0126 - val_accuracy: 0.9947\n",
      "Epoch 38/120\n",
      "800/800 [==============================] - 1s 777us/step - loss: 0.0103 - accuracy: 0.9960 - val_loss: 0.0130 - val_accuracy: 0.9947\n",
      "Epoch 39/120\n",
      "800/800 [==============================] - 1s 844us/step - loss: 0.0104 - accuracy: 0.9956 - val_loss: 0.0137 - val_accuracy: 0.9952\n",
      "Epoch 40/120\n",
      "800/800 [==============================] - 1s 875us/step - loss: 0.0100 - accuracy: 0.9963 - val_loss: 0.0131 - val_accuracy: 0.9947\n",
      "Epoch 41/120\n",
      "800/800 [==============================] - 1s 719us/step - loss: 0.0101 - accuracy: 0.9961 - val_loss: 0.0130 - val_accuracy: 0.9949\n",
      "Epoch 42/120\n",
      "800/800 [==============================] - 1s 834us/step - loss: 0.0099 - accuracy: 0.9962 - val_loss: 0.0167 - val_accuracy: 0.9922\n",
      "Epoch 43/120\n",
      "800/800 [==============================] - 1s 825us/step - loss: 0.0099 - accuracy: 0.9962 - val_loss: 0.0135 - val_accuracy: 0.9946\n",
      "Epoch 44/120\n",
      "800/800 [==============================] - 1s 843us/step - loss: 0.0099 - accuracy: 0.9962 - val_loss: 0.0130 - val_accuracy: 0.9946\n",
      "Epoch 45/120\n",
      "800/800 [==============================] - 1s 833us/step - loss: 0.0097 - accuracy: 0.9964 - val_loss: 0.0126 - val_accuracy: 0.9950\n",
      "Epoch 46/120\n",
      "800/800 [==============================] - 1s 840us/step - loss: 0.0097 - accuracy: 0.9960 - val_loss: 0.0133 - val_accuracy: 0.9956\n",
      "Epoch 47/120\n",
      "800/800 [==============================] - 1s 788us/step - loss: 0.0096 - accuracy: 0.9962 - val_loss: 0.0138 - val_accuracy: 0.9948\n",
      "Epoch 48/120\n",
      "800/800 [==============================] - 1s 865us/step - loss: 0.0095 - accuracy: 0.9962 - val_loss: 0.0126 - val_accuracy: 0.9949\n",
      "Epoch 49/120\n",
      "800/800 [==============================] - 1s 736us/step - loss: 0.0094 - accuracy: 0.9962 - val_loss: 0.0136 - val_accuracy: 0.9948\n",
      "Epoch 50/120\n",
      "800/800 [==============================] - 1s 732us/step - loss: 0.0093 - accuracy: 0.9963 - val_loss: 0.0131 - val_accuracy: 0.9953\n",
      "Epoch 51/120\n",
      "800/800 [==============================] - 1s 814us/step - loss: 0.0094 - accuracy: 0.9963 - val_loss: 0.0127 - val_accuracy: 0.9952\n",
      "Epoch 52/120\n",
      "800/800 [==============================] - 1s 799us/step - loss: 0.0092 - accuracy: 0.9963 - val_loss: 0.0130 - val_accuracy: 0.9949\n",
      "Epoch 53/120\n",
      "800/800 [==============================] - 1s 734us/step - loss: 0.0092 - accuracy: 0.9963 - val_loss: 0.0135 - val_accuracy: 0.9947\n",
      "Epoch 54/120\n",
      "800/800 [==============================] - 1s 818us/step - loss: 0.0091 - accuracy: 0.9962 - val_loss: 0.0168 - val_accuracy: 0.9931\n",
      "Epoch 55/120\n",
      "800/800 [==============================] - 1s 720us/step - loss: 0.0093 - accuracy: 0.9962 - val_loss: 0.0133 - val_accuracy: 0.9949\n",
      "Epoch 56/120\n",
      "800/800 [==============================] - 1s 767us/step - loss: 0.0092 - accuracy: 0.9961 - val_loss: 0.0129 - val_accuracy: 0.9952\n",
      "Epoch 57/120\n",
      "800/800 [==============================] - 1s 833us/step - loss: 0.0091 - accuracy: 0.9962 - val_loss: 0.0140 - val_accuracy: 0.9952\n",
      "Epoch 58/120\n",
      "800/800 [==============================] - 1s 834us/step - loss: 0.0091 - accuracy: 0.9964 - val_loss: 0.0136 - val_accuracy: 0.9942\n",
      "Epoch 59/120\n",
      "800/800 [==============================] - 1s 711us/step - loss: 0.0088 - accuracy: 0.9963 - val_loss: 0.0138 - val_accuracy: 0.9950\n",
      "Epoch 60/120\n",
      "800/800 [==============================] - 1s 686us/step - loss: 0.0089 - accuracy: 0.9964 - val_loss: 0.0134 - val_accuracy: 0.9947\n",
      "Epoch 61/120\n",
      "800/800 [==============================] - 1s 675us/step - loss: 0.0090 - accuracy: 0.9964 - val_loss: 0.0139 - val_accuracy: 0.9943\n",
      "Epoch 62/120\n",
      "800/800 [==============================] - 1s 760us/step - loss: 0.0087 - accuracy: 0.9963 - val_loss: 0.0132 - val_accuracy: 0.9950\n",
      "Epoch 63/120\n",
      "800/800 [==============================] - 1s 816us/step - loss: 0.0088 - accuracy: 0.9965 - val_loss: 0.0133 - val_accuracy: 0.9950\n",
      "Epoch 64/120\n",
      "800/800 [==============================] - 1s 844us/step - loss: 0.0088 - accuracy: 0.9963 - val_loss: 0.0128 - val_accuracy: 0.9950\n",
      "Epoch 65/120\n",
      "800/800 [==============================] - 1s 895us/step - loss: 0.0087 - accuracy: 0.9964 - val_loss: 0.0136 - val_accuracy: 0.9949\n",
      "Epoch 66/120\n",
      "800/800 [==============================] - 1s 710us/step - loss: 0.0086 - accuracy: 0.9963 - val_loss: 0.0129 - val_accuracy: 0.9952\n",
      "Epoch 67/120\n",
      "800/800 [==============================] - 1s 697us/step - loss: 0.0085 - accuracy: 0.9965 - val_loss: 0.0129 - val_accuracy: 0.9950\n",
      "Epoch 68/120\n",
      "800/800 [==============================] - 1s 732us/step - loss: 0.0085 - accuracy: 0.9964 - val_loss: 0.0146 - val_accuracy: 0.9932\n",
      "Epoch 69/120\n",
      "800/800 [==============================] - 1s 734us/step - loss: 0.0089 - accuracy: 0.9962 - val_loss: 0.0135 - val_accuracy: 0.9947\n",
      "Epoch 70/120\n",
      "800/800 [==============================] - 1s 658us/step - loss: 0.0085 - accuracy: 0.9965 - val_loss: 0.0136 - val_accuracy: 0.9947\n",
      "Epoch 71/120\n",
      "800/800 [==============================] - 1s 704us/step - loss: 0.0084 - accuracy: 0.9964 - val_loss: 0.0147 - val_accuracy: 0.9937\n",
      "Epoch 72/120\n",
      "800/800 [==============================] - 1s 847us/step - loss: 0.0086 - accuracy: 0.9963 - val_loss: 0.0130 - val_accuracy: 0.9952\n",
      "Epoch 73/120\n",
      "800/800 [==============================] - 1s 922us/step - loss: 0.0084 - accuracy: 0.9963 - val_loss: 0.0136 - val_accuracy: 0.9951\n",
      "Epoch 74/120\n",
      "800/800 [==============================] - 1s 800us/step - loss: 0.0083 - accuracy: 0.9963 - val_loss: 0.0140 - val_accuracy: 0.9950\n",
      "Epoch 75/120\n",
      "800/800 [==============================] - 1s 725us/step - loss: 0.0084 - accuracy: 0.9964 - val_loss: 0.0141 - val_accuracy: 0.9954\n",
      "Epoch 76/120\n",
      "800/800 [==============================] - 1s 833us/step - loss: 0.0084 - accuracy: 0.9965 - val_loss: 0.0134 - val_accuracy: 0.9950\n",
      "Epoch 77/120\n",
      "800/800 [==============================] - 1s 711us/step - loss: 0.0083 - accuracy: 0.9964 - val_loss: 0.0136 - val_accuracy: 0.9950\n",
      "Epoch 78/120\n",
      "800/800 [==============================] - 1s 840us/step - loss: 0.0082 - accuracy: 0.9962 - val_loss: 0.0139 - val_accuracy: 0.9938\n",
      "Epoch 79/120\n",
      "800/800 [==============================] - 1s 757us/step - loss: 0.0083 - accuracy: 0.9964 - val_loss: 0.0133 - val_accuracy: 0.9954\n",
      "Epoch 80/120\n",
      "800/800 [==============================] - 1s 796us/step - loss: 0.0083 - accuracy: 0.9964 - val_loss: 0.0136 - val_accuracy: 0.9946\n",
      "Epoch 81/120\n",
      "800/800 [==============================] - 1s 850us/step - loss: 0.0081 - accuracy: 0.9964 - val_loss: 0.0132 - val_accuracy: 0.9954\n",
      "Epoch 82/120\n",
      "800/800 [==============================] - 1s 756us/step - loss: 0.0083 - accuracy: 0.9964 - val_loss: 0.0128 - val_accuracy: 0.9952\n",
      "Epoch 83/120\n",
      "800/800 [==============================] - 1s 817us/step - loss: 0.0082 - accuracy: 0.9962 - val_loss: 0.0128 - val_accuracy: 0.9952\n",
      "Epoch 84/120\n",
      "800/800 [==============================] - 1s 793us/step - loss: 0.0080 - accuracy: 0.9965 - val_loss: 0.0134 - val_accuracy: 0.9948\n",
      "Epoch 85/120\n",
      "800/800 [==============================] - 1s 827us/step - loss: 0.0081 - accuracy: 0.9962 - val_loss: 0.0138 - val_accuracy: 0.9944\n",
      "Epoch 86/120\n",
      "800/800 [==============================] - 1s 754us/step - loss: 0.0080 - accuracy: 0.9964 - val_loss: 0.0128 - val_accuracy: 0.9954\n",
      "Epoch 87/120\n",
      "800/800 [==============================] - 1s 781us/step - loss: 0.0081 - accuracy: 0.9965 - val_loss: 0.0129 - val_accuracy: 0.9948\n",
      "Epoch 88/120\n",
      "800/800 [==============================] - 1s 741us/step - loss: 0.0081 - accuracy: 0.9965 - val_loss: 0.0130 - val_accuracy: 0.9948\n",
      "Epoch 89/120\n",
      "800/800 [==============================] - 1s 778us/step - loss: 0.0079 - accuracy: 0.9963 - val_loss: 0.0128 - val_accuracy: 0.9949\n",
      "Epoch 90/120\n",
      "800/800 [==============================] - 1s 822us/step - loss: 0.0081 - accuracy: 0.9965 - val_loss: 0.0132 - val_accuracy: 0.9950\n",
      "Epoch 91/120\n",
      "800/800 [==============================] - 1s 686us/step - loss: 0.0078 - accuracy: 0.9965 - val_loss: 0.0131 - val_accuracy: 0.9949\n",
      "Epoch 92/120\n",
      "800/800 [==============================] - 1s 757us/step - loss: 0.0081 - accuracy: 0.9962 - val_loss: 0.0130 - val_accuracy: 0.9953\n",
      "Epoch 93/120\n",
      "800/800 [==============================] - 1s 662us/step - loss: 0.0079 - accuracy: 0.9966 - val_loss: 0.0131 - val_accuracy: 0.9953\n",
      "Epoch 94/120\n",
      "800/800 [==============================] - 1s 731us/step - loss: 0.0076 - accuracy: 0.9964 - val_loss: 0.0135 - val_accuracy: 0.9951\n",
      "Epoch 95/120\n",
      "800/800 [==============================] - 1s 748us/step - loss: 0.0077 - accuracy: 0.9965 - val_loss: 0.0140 - val_accuracy: 0.9949\n",
      "Epoch 96/120\n",
      "800/800 [==============================] - 1s 714us/step - loss: 0.0080 - accuracy: 0.9965 - val_loss: 0.0135 - val_accuracy: 0.9942\n",
      "Epoch 97/120\n",
      "800/800 [==============================] - 1s 712us/step - loss: 0.0078 - accuracy: 0.9965 - val_loss: 0.0131 - val_accuracy: 0.9950\n",
      "Epoch 98/120\n",
      "800/800 [==============================] - 1s 731us/step - loss: 0.0078 - accuracy: 0.9965 - val_loss: 0.0127 - val_accuracy: 0.9953\n",
      "Epoch 99/120\n",
      "800/800 [==============================] - 1s 686us/step - loss: 0.0078 - accuracy: 0.9965 - val_loss: 0.0129 - val_accuracy: 0.9956\n",
      "Epoch 100/120\n",
      "800/800 [==============================] - 1s 787us/step - loss: 0.0077 - accuracy: 0.9966 - val_loss: 0.0132 - val_accuracy: 0.9947\n",
      "Epoch 101/120\n",
      "800/800 [==============================] - 1s 713us/step - loss: 0.0078 - accuracy: 0.9965 - val_loss: 0.0131 - val_accuracy: 0.9947\n",
      "Epoch 102/120\n",
      "800/800 [==============================] - 1s 694us/step - loss: 0.0077 - accuracy: 0.9965 - val_loss: 0.0138 - val_accuracy: 0.9936\n",
      "Epoch 103/120\n",
      "800/800 [==============================] - 1s 736us/step - loss: 0.0078 - accuracy: 0.9962 - val_loss: 0.0132 - val_accuracy: 0.9952\n",
      "Epoch 104/120\n",
      "800/800 [==============================] - 1s 882us/step - loss: 0.0075 - accuracy: 0.9965 - val_loss: 0.0137 - val_accuracy: 0.9954\n",
      "Epoch 105/120\n",
      "800/800 [==============================] - 1s 722us/step - loss: 0.0078 - accuracy: 0.9965 - val_loss: 0.0131 - val_accuracy: 0.9946\n",
      "Epoch 106/120\n",
      "800/800 [==============================] - 1s 722us/step - loss: 0.0075 - accuracy: 0.9963 - val_loss: 0.0127 - val_accuracy: 0.9952\n",
      "Epoch 107/120\n",
      "800/800 [==============================] - 1s 735us/step - loss: 0.0077 - accuracy: 0.9964 - val_loss: 0.0130 - val_accuracy: 0.9954\n",
      "Epoch 108/120\n",
      "800/800 [==============================] - 1s 894us/step - loss: 0.0076 - accuracy: 0.9964 - val_loss: 0.0126 - val_accuracy: 0.9952\n",
      "Epoch 109/120\n",
      "800/800 [==============================] - 1s 1ms/step - loss: 0.0074 - accuracy: 0.9967 - val_loss: 0.0125 - val_accuracy: 0.9952\n",
      "Epoch 110/120\n",
      "800/800 [==============================] - 1s 905us/step - loss: 0.0075 - accuracy: 0.9965 - val_loss: 0.0135 - val_accuracy: 0.9942\n",
      "Epoch 111/120\n",
      "800/800 [==============================] - 1s 776us/step - loss: 0.0075 - accuracy: 0.9964 - val_loss: 0.0123 - val_accuracy: 0.9950\n",
      "Epoch 112/120\n",
      "800/800 [==============================] - 1s 754us/step - loss: 0.0076 - accuracy: 0.9963 - val_loss: 0.0132 - val_accuracy: 0.9941\n",
      "Epoch 113/120\n",
      "800/800 [==============================] - 1s 906us/step - loss: 0.0075 - accuracy: 0.9964 - val_loss: 0.0133 - val_accuracy: 0.9952\n",
      "Epoch 114/120\n",
      "800/800 [==============================] - 1s 807us/step - loss: 0.0073 - accuracy: 0.9966 - val_loss: 0.0132 - val_accuracy: 0.9954\n",
      "Epoch 115/120\n",
      "800/800 [==============================] - 1s 797us/step - loss: 0.0075 - accuracy: 0.9965 - val_loss: 0.0124 - val_accuracy: 0.9954\n",
      "Epoch 116/120\n",
      "800/800 [==============================] - 1s 727us/step - loss: 0.0074 - accuracy: 0.9966 - val_loss: 0.0134 - val_accuracy: 0.9949\n",
      "Epoch 117/120\n",
      "800/800 [==============================] - 1s 835us/step - loss: 0.0073 - accuracy: 0.9966 - val_loss: 0.0150 - val_accuracy: 0.9952\n",
      "Epoch 118/120\n",
      "800/800 [==============================] - 1s 803us/step - loss: 0.0073 - accuracy: 0.9967 - val_loss: 0.0127 - val_accuracy: 0.9943\n",
      "Epoch 119/120\n",
      "800/800 [==============================] - 1s 813us/step - loss: 0.0075 - accuracy: 0.9964 - val_loss: 0.0132 - val_accuracy: 0.9955\n",
      "Epoch 120/120\n",
      "800/800 [==============================] - 1s 778us/step - loss: 0.0074 - accuracy: 0.9963 - val_loss: 0.0135 - val_accuracy: 0.9943\n"
     ]
    }
   ],
   "metadata": {}
  },
  {
   "cell_type": "code",
   "execution_count": 11,
   "source": [
    "# Plot our training curves. This is alwasy important to see if we've started to overfit or whether \r\n",
    "# we could benefit from more training cycles....\r\n",
    "import matplotlib.pyplot as plt\r\n",
    "plt.title(\"Suspicious\")\r\n",
    "plt.plot(history.history[\"accuracy\"], label=\"Training Accuracy\")\r\n",
    "plt.plot(history.history[\"val_accuracy\"],label=\"Validation Set Accuracy\")\r\n",
    "plt.legend()\r\n",
    "plt.grid()\r\n",
    "\r\n",
    "# The following graph should show about 77% accuracy."
   ],
   "outputs": [
    {
     "output_type": "display_data",
     "data": {
      "text/plain": [
       "<Figure size 432x288 with 1 Axes>"
      ],
      "image/png": "[encoded data removed]"
     },
     "metadata": {
      "needs_background": "light"
     }
    }
   ],
   "metadata": {}
  },
  {
   "cell_type": "code",
   "execution_count": 12,
   "source": [
    "# Calculate base rate accuracy\r\n",
    "print(y_train.mean())\r\n",
    "# This shows us what accuracy we could get if we just guess the same thing all the time.\r\n"
   ],
   "outputs": [
    {
     "output_type": "stream",
     "name": "stdout",
     "text": [
      "0.39656379732906516\n"
     ]
    }
   ],
   "metadata": {}
  },
  {
   "cell_type": "markdown",
   "source": [
    "- In this game, since there are always 2 spies randomly chosen from a team of 5,  that is 2/5=40% of the time we could guess someone is a spy.  This matches the base rate above, very closely.   \n",
    "\n",
    "- However if we just wanted a simple fixed classifer to make the best fixed guess, by just saying  \"Not Spy\" all of the time we could score a whopping 60% accuracy!  So if our classifier can't beat  60% then we can say that it is rubbish.\n",
    "- Fortunately our classifer is scoring over 70% accuracy comfortably (as should be shown in the graph above)."
   ],
   "metadata": {}
  },
  {
   "cell_type": "markdown",
   "source": [
    "- In the next code block, I'd like to work out if our neural network's accuracy improves during each game.\n",
    "- For example, once we've seen several rounds of play we gather more clues as to who is a spy, so our accuracy should increase as each game goes on."
   ],
   "metadata": {}
  },
  {
   "cell_type": "code",
   "execution_count": 15,
   "source": [
    "accuracy_by_turn=[]\r\n",
    "maximum_turn=df['Turn'].max()\r\n",
    "accuracy_metric=tf.keras.metrics.Accuracy()\r\n",
    "print(\"maximum_turn\",maximum_turn)\r\n",
    "for turn in range(1,maximum_turn+1):\r\n",
    "    df_restricted=df.query('Turn>='+str(turn)) # Pull out just those rows of the training data corresponding to later turns in the game\r\n",
    "    \r\n",
    "    x=df_restricted.values[:,4:22].astype(np.float32)\r\n",
    "    y=df_restricted.values[:,22].astype(np.int32)\r\n",
    "    y_guess=model(x)\r\n",
    "    y_guess=tf.argmax(y_guess,axis=1)\r\n",
    "    #accuracy=tf.reduce_mean(tf.cast(tf.equal(y,y_guess),tf.float32)) # This formula owuld also give us the accuracy but this is hand-evaluated.\r\n",
    "    accuracy=accuracy_metric(y_guess,y) # This function calculates accuracy using an in-built keras function.\r\n",
    "    accuracy_by_turn.append(accuracy.numpy()) # record the results so we can plot them.\r\n",
    "print(tf.range(maximum_turn),accuracy_by_turn)\r\n",
    "plt.plot(tf.range(1,1+len(accuracy_by_turn)),accuracy_by_turn)\r\n",
    "plt.title('Accuracy at identifying whether \"Suspicious\" is a spy as the game progresses')\r\n",
    "plt.xlabel('Turn')\r\n",
    "plt.ylabel('Accuracy')\r\n",
    "plt.grid()"
   ],
   "outputs": [
    {
     "output_type": "stream",
     "name": "stdout",
     "text": [
      "maximum_turn 6\n",
      "tf.Tensor([0 1 2 3 4 5], shape=(6,), dtype=int64) [0.9956761, 0.9956761, 0.9956761, 0.9956761, 0.99550205, 0.9952672]\n"
     ]
    },
    {
     "output_type": "display_data",
     "data": {
      "text/plain": [
       "<Figure size 432x288 with 1 Axes>"
      ],
      "image/png": "[encoded data removed]"
     },
     "metadata": {
      "needs_background": "light"
     }
    }
   ],
   "metadata": {}
  },
  {
   "cell_type": "code",
   "execution_count": 14,
   "source": [
    "# Finally, save our model so we can build a resistance-bot that plays using this neural network.\r\n",
    "model.save('bots/loggerbot_classifier')"
   ],
   "outputs": [
    {
     "output_type": "stream",
     "name": "stdout",
     "text": [
      "INFO:tensorflow:Assets written to: bots/loggerbot_classifier\\assets\n"
     ]
    }
   ],
   "metadata": {}
  },
  {
   "cell_type": "code",
   "execution_count": null,
   "source": [],
   "outputs": [],
   "metadata": {}
  },
  {
   "cell_type": "code",
   "execution_count": null,
   "source": [],
   "outputs": [],
   "metadata": {}
  },
  {
   "cell_type": "code",
   "execution_count": null,
   "source": [],
   "outputs": [],
   "metadata": {}
  },
  {
   "cell_type": "code",
   "execution_count": null,
   "source": [],
   "outputs": [],
   "metadata": {}
  }
 ],
 "metadata": {
  "kernelspec": {
   "name": "python3",
   "display_name": "Python 3.9.6 64-bit"
  },
  "language_info": {
   "codemirror_mode": {
    "name": "ipython",
    "version": 3
   },
   "file_extension": ".py",
   "mimetype": "text/x-python",
   "name": "python",
   "nbconvert_exporter": "python",
   "pygments_lexer": "ipython3",
   "version": "3.9.6"
  },
  "interpreter": {
   "hash": "ca585555a2867b459a38eaf8b2b47956aef7a6f770e52f1f5dfa1f8f05e57688"
  }
 },
 "nbformat": 4,
 "nbformat_minor": 4
}